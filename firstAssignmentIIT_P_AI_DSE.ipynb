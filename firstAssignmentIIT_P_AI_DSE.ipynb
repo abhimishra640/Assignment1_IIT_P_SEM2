{
  "nbformat": 4,
  "nbformat_minor": 0,
  "metadata": {
    "colab": {
      "provenance": [],
      "toc_visible": true,
      "authorship_tag": "ABX9TyNk5C4bT3C/DcMVVIf6RIyk",
      "include_colab_link": true
    },
    "kernelspec": {
      "name": "python3",
      "display_name": "Python 3"
    },
    "language_info": {
      "name": "python"
    }
  },
  "cells": [
    {
      "cell_type": "markdown",
      "metadata": {
        "id": "view-in-github",
        "colab_type": "text"
      },
      "source": [
        "<a href=\"https://colab.research.google.com/github/abhimishra640/Assignment1_IIT_P_SEM2/blob/main/firstAssignmentIIT_P_AI_DSE.ipynb\" target=\"_parent\"><img src=\"https://colab.research.google.com/assets/colab-badge.svg\" alt=\"Open In Colab\"/></a>"
      ]
    },
    {
      "cell_type": "markdown",
      "source": [
        "# 1. Prime numbers up to a given number n:"
      ],
      "metadata": {
        "id": "4QbkuQ-LQ7T6"
      }
    },
    {
      "cell_type": "code",
      "source": [
        "def is_prime(num):\n",
        "    \"\"\"Check if a number is a prime number.\"\"\"\n",
        "    if num <= 1:\n",
        "        return False\n",
        "    for i in range(2, int(num**0.5) + 1):\n",
        "        if num % i == 0:\n",
        "            return False\n",
        "    return True\n",
        "\n",
        "def primes_upto_n(n):\n",
        "    \"\"\"Return a list of prime numbers up to n.\"\"\"\n",
        "    primes = []\n",
        "    for i in range(2, n + 1):\n",
        "        if is_prime(i):\n",
        "            primes.append(i)\n",
        "    return primes\n",
        "\n",
        "# Get input from the user\n",
        "try:\n",
        "    n = int(input(\"Enter a number (n): \"))\n",
        "    if n < 0:\n",
        "        print(\"Please enter a non-negative number.\")\n",
        "    else:\n",
        "        prime_numbers = primes_upto_n(n)\n",
        "        print(f\"Prime numbers up to {n}: {prime_numbers}\")\n",
        "except ValueError:\n",
        "    print(\"Invalid input! Please enter an integer.\")\n"
      ],
      "metadata": {
        "colab": {
          "base_uri": "https://localhost:8080/"
        },
        "id": "n64vTtvpBwxJ",
        "outputId": "566b69ea-5ffc-4742-e341-142ec4608417"
      },
      "execution_count": 1,
      "outputs": [
        {
          "output_type": "stream",
          "name": "stdout",
          "text": [
            "Enter a number (n): 25\n",
            "Prime numbers up to 25: [2, 3, 5, 7, 11, 13, 17, 19, 23]\n"
          ]
        }
      ]
    },
    {
      "cell_type": "markdown",
      "source": [
        "# 2. First n prime numbers:"
      ],
      "metadata": {
        "id": "Up6Bd0OzQqlG"
      }
    },
    {
      "cell_type": "code",
      "source": [
        "import math\n",
        "\n",
        "def is_prime(n):\n",
        "    \"\"\"\n",
        "    Checks if a number is prime.\n",
        "\n",
        "    Args:\n",
        "      n: The number to check.\n",
        "\n",
        "    Returns:\n",
        "      True if n is prime, False otherwise.\n",
        "    \"\"\"\n",
        "    if n <= 1:\n",
        "        return False\n",
        "    for i in range(2, int(math.sqrt(n)) + 1):\n",
        "        if n % i == 0:\n",
        "            return False\n",
        "    return True\n",
        "\n",
        "def find_first_n_primes(n):\n",
        "    \"\"\"\n",
        "    Finds the first n prime numbers.\n",
        "\n",
        "    Args:\n",
        "      n: The number of prime numbers to find.\n",
        "\n",
        "    Returns:\n",
        "      A list of the first n prime numbers.\n",
        "    \"\"\"\n",
        "    primes = []\n",
        "    num = 2\n",
        "    while len(primes) < n:\n",
        "        if is_prime(num):\n",
        "            primes.append(num)\n",
        "        num += 1\n",
        "    return primes\n",
        "\n",
        "if __name__ == \"__main__\":\n",
        "    n = int(input(\"Enter the number of prime numbers to find: \"))\n",
        "    prime_numbers = find_first_n_primes(n)\n",
        "    print(\"The first\", n, \"prime numbers are:\", prime_numbers)\n",
        "\n"
      ],
      "metadata": {
        "colab": {
          "base_uri": "https://localhost:8080/"
        },
        "id": "9e3hBSZeCb-M",
        "outputId": "b9527640-ae72-4443-8bbb-bf1f9ed4ff34"
      },
      "execution_count": 5,
      "outputs": [
        {
          "output_type": "stream",
          "name": "stdout",
          "text": [
            "Enter the number of prime numbers to find: 6\n",
            "The first 6 prime numbers are: [2, 3, 5, 7, 11, 13]\n"
          ]
        }
      ]
    },
    {
      "cell_type": "markdown",
      "source": [
        "# 3. GCD computation using Euclid's algorithm:"
      ],
      "metadata": {
        "id": "fbBt62DaRcwK"
      }
    },
    {
      "cell_type": "code",
      "source": [
        "def gcd(a, b):\n",
        "  \"\"\"\n",
        "  Calculates the greatest common divisor (GCD) of two numbers using Euclid's algorithm.\n",
        "\n",
        "  Args:\n",
        "    a: The first number.\n",
        "    b: The second number.\n",
        "\n",
        "  Returns:\n",
        "    The GCD of a and b.\n",
        "  \"\"\"\n",
        "  while b:\n",
        "    a, b = b, a % b\n",
        "  return a\n",
        "\n",
        "# Get input from the user\n",
        "num1 = int(input(\"Enter the first number: \"))\n",
        "num2 = int(input(\"Enter the second number: \"))\n",
        "\n",
        "# Calculate the GCD\n",
        "result = gcd(num1, num2)\n",
        "\n",
        "# Print the result\n",
        "print(\"The GCD of\", num1, \"and\", num2, \"is\", result)"
      ],
      "metadata": {
        "colab": {
          "base_uri": "https://localhost:8080/"
        },
        "id": "IGTkCbNGEls4",
        "outputId": "e2753c88-b349-4d33-8273-731f4ba1dfa5"
      },
      "execution_count": 8,
      "outputs": [
        {
          "output_type": "stream",
          "name": "stdout",
          "text": [
            "Enter the first number: 99\n",
            "Enter the second number: 110\n",
            "The GCD of 99 and 110 is 11\n"
          ]
        }
      ]
    },
    {
      "cell_type": "markdown",
      "source": [
        "# 4. Frequency table for characters in a string:"
      ],
      "metadata": {
        "id": "RdtZzrHtRmm2"
      }
    },
    {
      "cell_type": "code",
      "source": [
        "def character_frequency():\n",
        "    \"\"\"Creates a frequency table for all characters in the string.\"\"\"\n",
        "    string = input(\"Enter the string: \")\n",
        "    freq = {}\n",
        "    for char in string:\n",
        "        if char in freq:\n",
        "            freq[char] += 1\n",
        "        else:\n",
        "            freq[char] = 1\n",
        "    return freq\n",
        "\n",
        "freq_table = character_frequency()\n",
        "print(freq_table)"
      ],
      "metadata": {
        "colab": {
          "base_uri": "https://localhost:8080/"
        },
        "id": "bCItwILKFS1f",
        "outputId": "7bbeaf61-c50e-4750-aa34-2c9c3abdec66"
      },
      "execution_count": 11,
      "outputs": [
        {
          "output_type": "stream",
          "name": "stdout",
          "text": [
            "Enter the string: mynameisabhinavmishra\n",
            "{'m': 3, 'y': 1, 'n': 2, 'a': 4, 'e': 1, 'i': 3, 's': 2, 'b': 1, 'h': 2, 'v': 1, 'r': 1}\n"
          ]
        }
      ]
    },
    {
      "cell_type": "markdown",
      "source": [
        "# 5. String reversal using stack:"
      ],
      "metadata": {
        "id": "XpPq9yiuRroI"
      }
    },
    {
      "cell_type": "code",
      "source": [
        "def reverse_string_using_stack():\n",
        "    \"\"\"Reverses a string using a stack.\"\"\"\n",
        "    string = input(\"Enter the string: \")\n",
        "    stack = []\n",
        "    for char in string:\n",
        "        stack.append(char)\n",
        "    reversed_string = \"\"\n",
        "    while stack:\n",
        "        reversed_string += stack.pop()\n",
        "    return reversed_string\n",
        "\n",
        "reversed_string = reverse_string_using_stack()\n",
        "print(\"Reversed string:\", reversed_string)"
      ],
      "metadata": {
        "colab": {
          "base_uri": "https://localhost:8080/"
        },
        "id": "EGyphd6HGG3N",
        "outputId": "7fb50e84-2030-4db2-93a2-db5e8d42985c"
      },
      "execution_count": 12,
      "outputs": [
        {
          "output_type": "stream",
          "name": "stdout",
          "text": [
            "Enter the string: ABHINAV MISHRA\n",
            "Reversed string: ARHSIM VANIHBA\n"
          ]
        }
      ]
    },
    {
      "cell_type": "markdown",
      "source": [
        "# 6. Text editor feature (UNDO and REDO operation):"
      ],
      "metadata": {
        "id": "uE2dQuTTR4Nl"
      }
    },
    {
      "cell_type": "code",
      "source": [
        "class TextEditor:\n",
        "    def __init__(self):\n",
        "        self.text = \"\"\n",
        "        self.undo_stack = []\n",
        "        self.redo_stack = []\n",
        "\n",
        "    def insert(self, char):\n",
        "        self.undo_stack.append(self.text)\n",
        "        self.redo_stack.clear()\n",
        "        self.text += char\n",
        "\n",
        "    def backspace(self):\n",
        "        if self.text:\n",
        "            self.undo_stack.append(self.text)\n",
        "            self.redo_stack.clear()\n",
        "            self.text = self.text[:-1]  # Remove the last character\n",
        "\n",
        "    def undo(self):\n",
        "        if self.undo_stack:\n",
        "            self.redo_stack.append(self.text)\n",
        "            self.text = self.undo_stack.pop()\n",
        "\n",
        "    def redo(self):\n",
        "        if self.redo_stack:\n",
        "            self.undo_stack.append(self.text)\n",
        "            self.text = self.redo_stack.pop()\n",
        "\n",
        "if __name__ == \"__main__\":\n",
        "    editor = TextEditor()\n",
        "\n",
        "    # Get initial input string from the user\n",
        "    initial_string = input(\"Enter the initial string: \")\n",
        "    for char in initial_string:\n",
        "        editor.insert(char)\n",
        "\n",
        "    while True:\n",
        "        print(f\"\\nCurrent text: {editor.text}\")\n",
        "        print(\"1. Undo\")\n",
        "        print(\"2. Redo\")\n",
        "        print(\"3. Exit\")\n",
        "\n",
        "        choice = input(\"Enter your choice: \")\n",
        "\n",
        "        if choice == '1':\n",
        "            editor.undo()\n",
        "        elif choice == '2':\n",
        "            editor.redo()\n",
        "        elif choice == '3':\n",
        "            break\n",
        "        else:\n",
        "            print(\"Invalid choice.\")\n",
        "\n",
        "    print(\"\\nFinal text:\", editor.text)"
      ],
      "metadata": {
        "colab": {
          "base_uri": "https://localhost:8080/"
        },
        "id": "xBSvCzr2Ns14",
        "outputId": "4ac92c32-31d4-444b-efd7-320083d0224c"
      },
      "execution_count": 22,
      "outputs": [
        {
          "output_type": "stream",
          "name": "stdout",
          "text": [
            "Enter the initial string: AbhinavM\n",
            "\n",
            "Current text: AbhinavM\n",
            "1. Undo\n",
            "2. Redo\n",
            "3. Exit\n",
            "Enter your choice: 1\n",
            "\n",
            "Current text: Abhinav\n",
            "1. Undo\n",
            "2. Redo\n",
            "3. Exit\n",
            "Enter your choice: 3\n",
            "\n",
            "Final text: Abhinav\n"
          ]
        }
      ]
    }
  ]
}